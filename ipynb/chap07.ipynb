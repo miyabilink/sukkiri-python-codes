{
 "cells": [
  {
   "cell_type": "code",
   "execution_count": null,
   "metadata": {},
   "outputs": [],
   "source": [
    "text = input('何を記録しますか? >>')\n",
    "file = open('diary.txt', 'a')\n",
    "file.write(text + '\\n')\n",
    "file.close()"
   ]
  },
  {
   "cell_type": "code",
   "execution_count": null,
   "metadata": {},
   "outputs": [],
   "source": [
    "text = input('今日は何をした? >>')\n",
    "with open('diary.txt', 'a') as file:\n",
    "    file.write(text + '\\n')"
   ]
  },
  {
   "cell_type": "code",
   "execution_count": null,
   "metadata": {},
   "outputs": [],
   "source": [
    "import math\n",
    "print('円周率は{}です'.format(math.pi))\n",
    "print('小数点以下を切り捨てれば{}です'.format(math.floor(math.pi)))\n",
    "print('小数点以下を切り上げれば{}です'.format(math.ceil(math.pi)))"
   ]
  },
  {
   "cell_type": "code",
   "execution_count": null,
   "metadata": {},
   "outputs": [],
   "source": [
    "import math as m\n",
    "print('円周率は{}です'.format(m.pi))\n",
    "print('小数点以下を切り捨てれば{}です'.format(m.floor(m.pi)))\n",
    "print('小数点以下を切り上げれば{}です'.format(m.ceil(m.pi)))"
   ]
  },
  {
   "cell_type": "code",
   "execution_count": null,
   "metadata": {},
   "outputs": [],
   "source": [
    "from math import pi\n",
    "from math import floor\n",
    "print('円周率は{}'.format(pi))\n",
    "print('小数点以下を切り捨てれば{}です'.format(floor(pi)))"
   ]
  },
  {
   "cell_type": "code",
   "execution_count": null,
   "metadata": {},
   "outputs": [],
   "source": [
    "from math import log\n",
    "def log(msg):\n",
    "    print('{}を記録します'.format(msg))\n",
    "log(10)"
   ]
  },
  {
   "cell_type": "code",
   "execution_count": null,
   "metadata": {},
   "outputs": [],
   "source": [
    "from math import pi as ensyuritsu\n",
    "from math import floor as kirisute\n",
    "print('円周率は{}'.format(ensyuritsu))\n",
    "print('小数点以下を切り捨てれば{}です' .format(kirisute(ensyuritsu)))"
   ]
  },
  {
   "cell_type": "code",
   "execution_count": null,
   "metadata": {},
   "outputs": [],
   "source": [
    "from math import *\n",
    "print('円周率は{}です'.format(pi))\n",
    "print('小数点以下を切り捨てれば{}です'.format(floor(pi)))\n",
    "print('小数点以下を切り上げれば{}です'.format(ceil(pi)))"
   ]
  },
  {
   "cell_type": "code",
   "execution_count": null,
   "metadata": {},
   "outputs": [],
   "source": [
    "import http.client\n",
    "conn = http.client.HTTPConnection('www.python.org')\n",
    "# ："
   ]
  },
  {
   "cell_type": "code",
   "execution_count": null,
   "metadata": {},
   "outputs": [],
   "source": [
    "from http import client\n",
    "conn = client.HTTPConnection('www.python.org')\n",
    "# ："
   ]
  },
  {
   "cell_type": "code",
   "execution_count": null,
   "metadata": {},
   "outputs": [],
   "source": [
    "from http.client import HTTPConnection\n",
    "conn = HTTPConnection('www.python.org')\n",
    "# ："
   ]
  },
  {
   "cell_type": "code",
   "execution_count": null,
   "metadata": {},
   "outputs": [],
   "source": [
    "%matplotlib inline\n",
    "import matplotlib.pyplot as plt\n",
    "weight = [68.4, 68.0, 69.5, 68.4, 68.6, 70.2, 71.4, 70.8, 68.5, 68.6, 68.3, 68.4]\n",
    "plt.plot(weight)"
   ]
  },
  {
   "cell_type": "code",
   "execution_count": null,
   "metadata": {},
   "outputs": [],
   "source": [
    "import requests\n",
    "response = requests.get('https://www.python.org/downloads/')\n",
    "text = response.text\n",
    "print(text)"
   ]
  },
  {
   "cell_type": "code",
   "execution_count": null,
   "metadata": {},
   "outputs": [],
   "source": [
    "import http.client\n",
    "conn = http.client.HTTPSConnection('www.python.org')\n",
    "conn.request('GET', '/downloads/')\n",
    "response = conn.getresponse()\n",
    "text = response.read().decode('UTF-8')\n",
    "print(text)\n",
    "conn.close()"
   ]
  }
 ],
 "metadata": {
  "kernelspec": {
   "display_name": "Python 3",
   "language": "python",
   "name": "python3"
  },
  "language_info": {
   "codemirror_mode": {
    "name": "ipython",
    "version": 3
   },
   "file_extension": ".py",
   "mimetype": "text/x-python",
   "name": "python",
   "nbconvert_exporter": "python",
   "pygments_lexer": "ipython3",
   "version": "3.7.1"
  }
 },
 "nbformat": 4,
 "nbformat_minor": 2
}
