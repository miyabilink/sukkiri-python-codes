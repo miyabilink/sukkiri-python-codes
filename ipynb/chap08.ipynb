{
 "cells": [
  {
   "cell_type": "code",
   "execution_count": null,
   "metadata": {},
   "outputs": [],
   "source": [
    "import urllib.request\n",
    "\n",
    "url = 'https://blog.python.org/'\n",
    "req = urllib.request.Request(url)\n",
    "with urllib.request.urlopen(req) as res:\n",
    "    body = str(res.read())\n",
    "\n",
    "if 'security' in body or 'vulnerability' in body:\n",
    "    print('セキュリティに関する記述があります')\n",
    "    print('https://blog.python.org/を確認してください')\n",
    "else:\n",
    "    print('調査対象のセキュリティ用語はありませんでした')"
   ]
  },
  {
   "cell_type": "code",
   "execution_count": null,
   "metadata": {},
   "outputs": [],
   "source": [
    "import sqlite3\n",
    "with sqlite3.connect('sample.db') as conn:\n",
    "    cursor = conn.cursor()\n",
    "    cursor.execute('SELECT ID, NAME FROM EMPLOYEES')\n",
    "    for row in cursor.fetchall():\n",
    "        print(row[0])\n",
    "        print(row[1])"
   ]
  },
  {
   "cell_type": "code",
   "execution_count": null,
   "metadata": {},
   "outputs": [],
   "source": [
    "import tkinter as tk\n",
    "root = tk.Tk()\n",
    "root.geometry('240x240')\n",
    "root.title('GUI Sample')\n",
    "button = tk.Button(root, text='Hello, World')\n",
    "button.pack()\n",
    "root.mainloop()"
   ]
  },
  {
   "cell_type": "code",
   "execution_count": null,
   "metadata": {},
   "outputs": [],
   "source": [
    "from flask import Flask\n",
    "import datetime\n",
    "app = Flask(__name__)\n",
    "@app.route('/')\n",
    "def hello():\n",
    "    dt = datetime.datetime.now()\n",
    "    html = '<!DOCTYPE html>'\n",
    "    html += '<html>'\n",
    "    html += '<head><title>Flask Sapmle</title></head>'\n",
    "    html += '<body>'\n",
    "    html += '{}年{}月{}日 {}時{}分{}秒です'.format(dt.year, dt.month, dt.day, dt.hour, dt.minute, dt.second)\n",
    "    html += '</body></html>'\n",
    "    return html\n",
    "if __name__ == '__main__':\n",
    "    app.run()"
   ]
  },
  {
   "cell_type": "code",
   "execution_count": null,
   "metadata": {},
   "outputs": [],
   "source": [
    "import RPi.GPIO as GPIO\n",
    "import dht11\n",
    "import time\n",
    "import datetime\n",
    "GPIO.setwarnings(False)\n",
    "GPIO.setmode(GPIO.BCM)\n",
    "GPIO.cleanup()\n",
    "instance = dht11.DHT11(pin=14)\n",
    "while True:\n",
    "    result = instance.read()\n",
    "    if result.is_valid():\n",
    "        temperature = result.temperature\n",
    "        humidity = result.humidity\n",
    "        print('温度:{}'.format(temperature))\n",
    "        print('湿度:{}'.format(humidity))\n",
    "    time.sleep(1)"
   ]
  },
  {
   "cell_type": "code",
   "execution_count": null,
   "metadata": {},
   "outputs": [],
   "source": [
    "import pandas as pd\n",
    "df = pd.read_csv('curry.csv', encoding='Shift_JIS')\n",
    "df['month'] = pd.to_datetime(df['時間軸(月次)'], format='%Y年%m月').dt.month\n",
    "df = df.groupby('month').mean()\n",
    "df.mean(axis=1)\n",
    "%matplotlib inline\n",
    "df.mean(axis=1).plot() # Pandasがmatplotlibを使って可視化する"
   ]
  }
 ],
 "metadata": {
  "kernelspec": {
   "display_name": "Python 3",
   "language": "python",
   "name": "python3"
  },
  "language_info": {
   "codemirror_mode": {
    "name": "ipython",
    "version": 3
   },
   "file_extension": ".py",
   "mimetype": "text/x-python",
   "name": "python",
   "nbconvert_exporter": "python",
   "pygments_lexer": "ipython3",
   "version": "3.7.1"
  }
 },
 "nbformat": 4,
 "nbformat_minor": 2
}
