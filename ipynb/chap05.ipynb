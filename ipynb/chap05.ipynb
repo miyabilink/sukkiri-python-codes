{
 "cells": [
  {
   "cell_type": "code",
   "execution_count": null,
   "metadata": {},
   "outputs": [],
   "source": [
    "student_list = ['浅木', '松田']\n",
    "count = 0\n",
    "for student in student_list:\n",
    "    print('{}さんの試験結果を入力してください'.format(student))\n",
    "    network = int(input('ネットワークの得点? >>'))\n",
    "    database = int(input('データベースの得点? >>'))\n",
    "    security = int(input('セキュリティの得点? >>'))\n",
    "    if student == '浅木':\n",
    "        asagi_scores = [network, database, security]\n",
    "        asagi_avg = sum(asagi_scores) / len(asagi_scores)\n",
    "    else:\n",
    "        matsuda_scores = [network, database, security]\n",
    "        matsuda_avg = sum(matsuda_scores) / len(matsuda_scores)\n",
    "print('浅木さんの平均点は{}です'.format(asagi_avg))\n",
    "print('松田さんの平均点は{}です'.format(matsuda_avg))"
   ]
  },
  {
   "cell_type": "code",
   "execution_count": null,
   "metadata": {},
   "outputs": [],
   "source": [
    "# 得点を入力\n",
    "asagi_scores = input_scores('浅木')\n",
    "matsuda_scores = input_scores('松田')\n",
    "# 平均点を計算\n",
    "asagi_avg = calc_average(asagi_scores)\n",
    "matsuda_avg = calc_average(matsuda_scores)\n",
    "# 結果を出力\n",
    "output_result('浅木', asagi_avg)\n",
    "output_result('松田', matsuda_avg)"
   ]
  },
  {
   "cell_type": "code",
   "execution_count": null,
   "metadata": {},
   "outputs": [],
   "source": [
    "def hello():\n",
    "    print('こんにちは。工藤です。')"
   ]
  },
  {
   "cell_type": "code",
   "execution_count": null,
   "metadata": {},
   "outputs": [],
   "source": [
    "hello()"
   ]
  },
  {
   "cell_type": "code",
   "execution_count": null,
   "metadata": {},
   "outputs": [],
   "source": [
    "def input_scores():\n",
    "    name = ''\n",
    "    print('{}の試験結果を入力してください'.format(name))"
   ]
  },
  {
   "cell_type": "code",
   "execution_count": null,
   "metadata": {},
   "outputs": [],
   "source": [
    "name = '浅木'\n",
    "input_scores()\n",
    "name = '松田'\n",
    "input_scores()"
   ]
  },
  {
   "cell_type": "code",
   "execution_count": null,
   "metadata": {},
   "outputs": [],
   "source": [
    "def hello(name):\n",
    "    print('こんにちは。{}です。'.format(name))"
   ]
  },
  {
   "cell_type": "code",
   "execution_count": null,
   "metadata": {},
   "outputs": [],
   "source": [
    "hello('浅木')\n",
    "hello('松田')"
   ]
  },
  {
   "cell_type": "code",
   "execution_count": null,
   "metadata": {},
   "outputs": [],
   "source": [
    "def profile(name, age, hobby):\n",
    "    print('私の名前は{}です。'.format(name))\n",
    "    print('年齢は{}歳です。'.format(age))\n",
    "    print('趣味は{}です。'.format(hobby))"
   ]
  },
  {
   "cell_type": "code",
   "execution_count": null,
   "metadata": {},
   "outputs": [],
   "source": [
    "profile('浅木', 24, 'カフェ巡り')"
   ]
  },
  {
   "cell_type": "code",
   "execution_count": null,
   "metadata": {},
   "outputs": [],
   "source": [
    "def calc_average(scores):\n",
    "    avg = sum(scores) / len(scores)\n",
    "    print('平均点は{}です'.format(avg))"
   ]
  },
  {
   "cell_type": "code",
   "execution_count": null,
   "metadata": {},
   "outputs": [],
   "source": [
    "def input_scores(name):\n",
    "    print('{}さんの試験結果を入力してください'.format(name))\n",
    "    network = int(input('ネットワークの得点? >>'))\n",
    "    database = int(input('データベースの得点? >>'))\n",
    "    security = int(input('セキュリティの得点? >>'))\n",
    "    scores = [network, database, security]\n",
    "def calc_average(scores):\n",
    "    avg = sum(scores) / len(scores)\n",
    "    print('平均点は{}です'.format(avg))"
   ]
  },
  {
   "cell_type": "code",
   "execution_count": null,
   "metadata": {},
   "outputs": [],
   "source": [
    "input_scores('浅木')\n",
    "calc_average(scores)"
   ]
  },
  {
   "cell_type": "code",
   "execution_count": null,
   "metadata": {},
   "outputs": [],
   "source": [
    "def plus(x, y):\n",
    "    answer = x + y\n",
    "    return answer"
   ]
  },
  {
   "cell_type": "code",
   "execution_count": null,
   "metadata": {},
   "outputs": [],
   "source": [
    "answer = plus(100, 50)\n",
    "print('足し算の答えは{}です'.format(answer))    "
   ]
  },
  {
   "cell_type": "code",
   "execution_count": null,
   "metadata": {},
   "outputs": [],
   "source": [
    "def input_scores(name):\n",
    "    print('{}さんの試験結果を入力してください'.format(name))\n",
    "    network = int(input('ネットワークの得点? >>'))\n",
    "    database = int(input('データベースの得点? >>'))\n",
    "    security = int(input('セキュリティの得点? >>'))\n",
    "    scores = [network, database, security]\n",
    "    return scores\n",
    " \n",
    "def calc_average(scores):\n",
    "    avg = sum(scores) / len(scores)\n",
    "    return avg\n",
    "\n",
    "def output_result(name, avg):\n",
    "    print('{}さんの平均点は{}です'.format(name, avg))"
   ]
  },
  {
   "cell_type": "code",
   "execution_count": null,
   "metadata": {},
   "outputs": [],
   "source": [
    "# 浅木と松田の得点入力\n",
    "asagi_scores = input_scores('浅木')\n",
    "matsuda_scores = input_scores('松田')\n",
    "# 平均点を計算\n",
    "asagi_avg = calc_average(asagi_scores)\n",
    "matsuda_avg = calc_average(matsuda_scores)\n",
    "# 結果を出力\n",
    "output_result('浅木', asagi_avg)\n",
    "output_result('松田', matsuda_avg)"
   ]
  },
  {
   "cell_type": "code",
   "execution_count": null,
   "metadata": {},
   "outputs": [],
   "source": [
    "def plus_and_minus(a, b):\n",
    "    return a + b, a - b\n",
    "\n",
    "next, prev = plus_and_minus(1978, 1)"
   ]
  },
  {
   "cell_type": "code",
   "execution_count": null,
   "metadata": {},
   "outputs": [],
   "source": [
    "def plus_and_minus(a, b):\n",
    "    return (a + b, a - b)\n",
    "\n",
    "(next, prev) = plus_and_minus(1978, 1)"
   ]
  },
  {
   "cell_type": "code",
   "execution_count": null,
   "metadata": {},
   "outputs": [],
   "source": [
    "def eat(breakfast, lunch, dinner):\n",
    "    print('朝は{}を食べました'.format(breakfast))\n",
    "    print('昼は{}を食べました'.format(lunch))\n",
    "    print('晩は{}を食べました'.format(dinner))"
   ]
  },
  {
   "cell_type": "code",
   "execution_count": null,
   "metadata": {},
   "outputs": [],
   "source": [
    "print('8月1日')\n",
    "eat('トースト', 'おにぎり', 'カレー')\n",
    "print('8月2日')\n",
    "eat('納豆ごはん', 'ラーメン', 'カレー')\n",
    "print('8月3日')\n",
    "eat('バナナ', 'そば', '焼肉')\n",
    "print('8月4日')\n",
    "eat('サンドウィッチ', 'しゅうまい弁当', 'カレー')"
   ]
  },
  {
   "cell_type": "code",
   "execution_count": null,
   "metadata": {},
   "outputs": [],
   "source": [
    "def eat(breakfast, lunch, dinner='カレー'):\n",
    "    print('朝は{}を食べました'.format(breakfast))\n",
    "    print('昼は{}を食べました'.format(lunch))\n",
    "    print('晩は{}を食べました'.format(dinner))"
   ]
  },
  {
   "cell_type": "code",
   "execution_count": null,
   "metadata": {},
   "outputs": [],
   "source": [
    "print('8月1日')\n",
    "eat('トースト', 'おにぎり')\n",
    "print('8月2日')\n",
    "eat('納豆ごはん', 'ラーメン')\n",
    "print('8月3日')\n",
    "eat('バナナ', 'そば', '焼肉')\n",
    "print('8月4日')\n",
    "eat('サンドウィッチ', 'しゅうまい弁当')"
   ]
  },
  {
   "cell_type": "code",
   "execution_count": null,
   "metadata": {},
   "outputs": [],
   "source": [
    "def eat(breakfast, lunch='ラーメン', dinner='カレー'):\n",
    "    print('朝は{}を食べました'.format(breakfast))\n",
    "    print('昼は{}を食べました'.format(lunch))\n",
    "    print('晩は{}を食べました'.format(dinner))"
   ]
  },
  {
   "cell_type": "code",
   "execution_count": null,
   "metadata": {},
   "outputs": [],
   "source": [
    "eat('納豆ごはん', 'ラーメン', 'カレーうどん')"
   ]
  },
  {
   "cell_type": "code",
   "execution_count": null,
   "metadata": {},
   "outputs": [],
   "source": [
    "eat(breakfast='納豆ごはん', dinner='カレーうどん') # 1\n",
    "eat(dinner='カレーうどん', breakfast='納豆ごはん') # 2\n",
    "eat('納豆ごはん', dinner='カレーうどん')           # 3"
   ]
  },
  {
   "cell_type": "code",
   "execution_count": null,
   "metadata": {},
   "outputs": [],
   "source": [
    "def eat(breakfast, lunch, dinner='カレー', desserts=()):\n",
    "    print('朝は{}を食べました'.format(breakfast))\n",
    "    print('昼は{}を食べました'.format(lunch))\n",
    "    print('晩は{}を食べました'.format(dinner))\n",
    "    for d in desserts:\n",
    "        print('おやつに{}を食べました'.format(d))"
   ]
  },
  {
   "cell_type": "code",
   "execution_count": null,
   "metadata": {},
   "outputs": [],
   "source": [
    "eat('トースト', 'パスタ', 'カレー', ('アイス', 'チョコ', 'パフェ'))"
   ]
  },
  {
   "cell_type": "code",
   "execution_count": null,
   "metadata": {},
   "outputs": [],
   "source": [
    "def eat(breakfast, lunch, dinner='カレー', *desserts):\n",
    "    print('朝は{}を食べました'.format(breakfast))\n",
    "    print('昼は{}を食べました'.format(lunch))\n",
    "    print('晩は{}を食べました'.format(dinner))\n",
    "    for d in desserts:\n",
    "        print('おやつに{}を食べました'.format(d))"
   ]
  },
  {
   "cell_type": "code",
   "execution_count": null,
   "metadata": {},
   "outputs": [],
   "source": [
    "eat('トースト', 'パスタ', 'カレー', 'アイス', 'チョコ', 'カレー')"
   ]
  },
  {
   "cell_type": "code",
   "execution_count": null,
   "metadata": {},
   "outputs": [],
   "source": [
    "name = '松田'\n",
    "def hello():\n",
    "    print('こんにちは' + name + 'さん')"
   ]
  },
  {
   "cell_type": "code",
   "execution_count": null,
   "metadata": {},
   "outputs": [],
   "source": [
    "hello()"
   ]
  },
  {
   "cell_type": "code",
   "execution_count": null,
   "metadata": {},
   "outputs": [],
   "source": [
    "name = '松田'\n",
    "def change_name():\n",
    "    name = '浅木'\n",
    "def hello():\n",
    "    print('こんにちは' + name + 'さん')"
   ]
  },
  {
   "cell_type": "code",
   "execution_count": null,
   "metadata": {},
   "outputs": [],
   "source": [
    "change_name()\n",
    "hello()"
   ]
  },
  {
   "cell_type": "code",
   "execution_count": null,
   "metadata": {},
   "outputs": [],
   "source": [
    "name = '松田'\n",
    "def change_name():\n",
    "    global name\n",
    "    name = '浅木'\n",
    "def hello():\n",
    "    print('こんにちは' + name + 'さん')"
   ]
  }
 ],
 "metadata": {
  "kernelspec": {
   "display_name": "Python 3",
   "language": "python",
   "name": "python3"
  },
  "language_info": {
   "codemirror_mode": {
    "name": "ipython",
    "version": 3
   },
   "file_extension": ".py",
   "mimetype": "text/x-python",
   "name": "python",
   "nbconvert_exporter": "python",
   "pygments_lexer": "ipython3",
   "version": "3.7.1"
  }
 },
 "nbformat": 4,
 "nbformat_minor": 2
}
